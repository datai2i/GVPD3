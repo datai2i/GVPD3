{
 "cells": [
  {
   "cell_type": "markdown",
   "id": "f817e0d5",
   "metadata": {},
   "source": [
    "# This code demonstrates various statistical summary operations using the Pandas library. It includes calculating descriptive statistics (such as mean, median, mode, standard deviation, variance, minimum, and maximum), computing correlation and covariance, counting occurrences of unique values, handling missing values, counting unique values, and performing grouping and aggregation operations."
   ]
  },
  {
   "cell_type": "code",
   "execution_count": null,
   "id": "45f1238b",
   "metadata": {},
   "outputs": [],
   "source": [
    "import pandas as pd\n",
    "\n",
    "# Read data from a CSV file\n",
    "df = pd.read_csv('diabetes.csv')"
   ]
  },
  {
   "cell_type": "code",
   "execution_count": null,
   "id": "792c3bdb",
   "metadata": {},
   "outputs": [],
   "source": [
    "# Display basic information about the DataFrame\n",
    "print(\"Data information:\")\n",
    "print(df.info())"
   ]
  },
  {
   "cell_type": "markdown",
   "id": "daa82ff0",
   "metadata": {},
   "source": [
    "# Descriptive statistics"
   ]
  },
  {
   "cell_type": "code",
   "execution_count": null,
   "id": "66aae2b9",
   "metadata": {},
   "outputs": [],
   "source": [
    "# Calculate descriptive statistics of numeric columns\n",
    "print(\"\\nDescriptive statistics:\")\n",
    "print(df.describe())"
   ]
  },
  {
   "cell_type": "code",
   "execution_count": null,
   "id": "2ac34a98",
   "metadata": {},
   "outputs": [],
   "source": [
    "# Calculate the mean of a specific column\n",
    "mean_value = df['Age'].mean()\n",
    "print(\"\\nMean value:\", mean_value)"
   ]
  },
  {
   "cell_type": "code",
   "execution_count": null,
   "id": "f24b5303",
   "metadata": {},
   "outputs": [],
   "source": [
    "# Calculate the median of a specific column\n",
    "median_value = df['Age'].median()\n",
    "print(\"\\nMedian value:\", median_value)"
   ]
  },
  {
   "cell_type": "code",
   "execution_count": null,
   "id": "cda1f232",
   "metadata": {},
   "outputs": [],
   "source": [
    "# Calculate the mode of a specific column\n",
    "mode_value = df['Age'].mode()\n",
    "print(\"\\nMode value:\")\n",
    "print(mode_value)"
   ]
  },
  {
   "cell_type": "code",
   "execution_count": null,
   "id": "8db32ce0",
   "metadata": {},
   "outputs": [],
   "source": [
    "# Calculate the standard deviation of a specific column\n",
    "std_value = df['Age'].std()\n",
    "print(\"\\nStandard deviation:\", std_value)"
   ]
  },
  {
   "cell_type": "code",
   "execution_count": null,
   "id": "7333afc2",
   "metadata": {},
   "outputs": [],
   "source": [
    "# Calculate the variance of a specific column\n",
    "variance_value = df['Age'].var()\n",
    "print(\"\\nVariance:\", variance_value)"
   ]
  },
  {
   "cell_type": "code",
   "execution_count": null,
   "id": "8978a210",
   "metadata": {},
   "outputs": [],
   "source": [
    "# Calculate the minimum value of a specific column\n",
    "min_value = df['Age'].min()\n",
    "print(\"\\nMinimum value:\", min_value)"
   ]
  },
  {
   "cell_type": "code",
   "execution_count": null,
   "id": "23521bde",
   "metadata": {},
   "outputs": [],
   "source": [
    "# Calculate the maximum value of a specific column\n",
    "max_value = df['Age'].max()\n",
    "print(\"\\nMaximum value:\", max_value)"
   ]
  },
  {
   "cell_type": "code",
   "execution_count": null,
   "id": "afba12b2",
   "metadata": {},
   "outputs": [],
   "source": [
    "# Calculate the correlation between two columns\n",
    "correlation = df['Age'].corr(df['BloodPressure'])\n",
    "print(\"\\nCorrelation:\", correlation)"
   ]
  },
  {
   "cell_type": "code",
   "execution_count": null,
   "id": "5f88e006",
   "metadata": {},
   "outputs": [],
   "source": [
    "# Calculate the covariance between two columns\n",
    "covariance = df['Age'].cov(df['BloodPressure'])\n",
    "print(\"\\nCovariance:\", covariance)"
   ]
  },
  {
   "cell_type": "code",
   "execution_count": null,
   "id": "8d4a21b5",
   "metadata": {},
   "outputs": [],
   "source": [
    "# Count the occurrences of unique values in a column\n",
    "value_counts = df['Age'].value_counts()\n",
    "print(\"\\nValue counts:\")\n",
    "print(value_counts)"
   ]
  },
  {
   "cell_type": "code",
   "execution_count": null,
   "id": "66674880",
   "metadata": {},
   "outputs": [],
   "source": [
    "# Count the number of missing values in each column\n",
    "missing_values = df.isnull().sum()\n",
    "print(\"\\nMissing values:\")\n",
    "print(missing_values)"
   ]
  },
  {
   "cell_type": "code",
   "execution_count": null,
   "id": "014c95bd",
   "metadata": {},
   "outputs": [],
   "source": [
    "# Count the number of unique values in a column\n",
    "unique_values = df['Age'].nunique()\n",
    "print(\"\\nUnique values:\", unique_values)"
   ]
  },
  {
   "cell_type": "markdown",
   "id": "c577fda4",
   "metadata": {},
   "source": [
    "# Grouping and aggregation"
   ]
  },
  {
   "cell_type": "code",
   "execution_count": null,
   "id": "456c0a76",
   "metadata": {},
   "outputs": [],
   "source": [
    "# Group data by a column and calculate the mean of another column\n",
    "grouped_data = df.groupby('Age')['Glucose'].mean()\n",
    "print(\"\\nGrouped data:\")\n",
    "print(grouped_data)"
   ]
  }
 ],
 "metadata": {
  "kernelspec": {
   "display_name": "Python 3 (ipykernel)",
   "language": "python",
   "name": "python3"
  },
  "language_info": {
   "codemirror_mode": {
    "name": "ipython",
    "version": 3
   },
   "file_extension": ".py",
   "mimetype": "text/x-python",
   "name": "python",
   "nbconvert_exporter": "python",
   "pygments_lexer": "ipython3",
   "version": "3.9.13"
  }
 },
 "nbformat": 4,
 "nbformat_minor": 5
}
