{
 "cells": [
  {
   "cell_type": "markdown",
   "id": "42b7e223",
   "metadata": {},
   "source": [
    "This code demonstrates various operations for exploring data distributions and correlations using the Pandas and Matplotlib libraries. It includes creating histograms, box plots, kernel density plots, and bar plots to visualize data distributions. Additionally, it calculates the correlation matrix and creates a heatmap to visualize the correlations between columns in the dataset."
   ]
  },
  {
   "cell_type": "code",
   "execution_count": null,
   "id": "ef1aa1f8",
   "metadata": {},
   "outputs": [],
   "source": [
    "import pandas as pd\n",
    "import matplotlib.pyplot as plt\n",
    "\n",
    "# Read data from a CSV file\n",
    "df = pd.read_csv('diabetes.csv')"
   ]
  },
  {
   "cell_type": "code",
   "execution_count": null,
   "id": "a1c5245d",
   "metadata": {},
   "outputs": [],
   "source": [
    "# Display basic information about the DataFrame\n",
    "print(\"Data information:\")\n",
    "print(df.info())"
   ]
  },
  {
   "cell_type": "markdown",
   "id": "4e2e8cd8",
   "metadata": {},
   "source": [
    "# Data distributions"
   ]
  },
  {
   "cell_type": "code",
   "execution_count": null,
   "id": "1c5f5c25",
   "metadata": {},
   "outputs": [],
   "source": [
    "# Create a histogram of a specific column\n",
    "plt.hist(df['Age'], bins=10)\n",
    "plt.title(\"Histogram\")\n",
    "plt.xlabel(\"Values\")\n",
    "plt.ylabel(\"Frequency\")\n",
    "plt.show()"
   ]
  },
  {
   "cell_type": "code",
   "execution_count": null,
   "id": "d1b2a731",
   "metadata": {},
   "outputs": [],
   "source": [
    "# Create a box plot of a specific column\n",
    "plt.boxplot(df['Age'])\n",
    "plt.title(\"Box Plot\")\n",
    "plt.ylabel(\"Values\")\n",
    "plt.show()"
   ]
  },
  {
   "cell_type": "code",
   "execution_count": null,
   "id": "be51dd1b",
   "metadata": {},
   "outputs": [],
   "source": [
    "# Create a kernel density plot of a specific column\n",
    "df['Age'].plot.kde()\n",
    "plt.title(\"Kernel Density Plot\")\n",
    "plt.xlabel(\"Values\")\n",
    "plt.ylabel(\"Density\")\n",
    "plt.show()"
   ]
  },
  {
   "cell_type": "code",
   "execution_count": null,
   "id": "2c453744",
   "metadata": {},
   "outputs": [],
   "source": [
    "# Create a bar plot of value counts for a specific column\n",
    "value_counts = df['Age'].value_counts()\n",
    "plt.bar(value_counts.index, value_counts.values)\n",
    "plt.title(\"Value Counts\")\n",
    "plt.xlabel(\"Values\")\n",
    "plt.ylabel(\"Counts\")\n",
    "plt.show()"
   ]
  },
  {
   "cell_type": "markdown",
   "id": "d9fa9d04",
   "metadata": {},
   "source": [
    "# Data correlations"
   ]
  },
  {
   "cell_type": "code",
   "execution_count": null,
   "id": "5558c380",
   "metadata": {},
   "outputs": [],
   "source": [
    "# Calculate the correlation matrix\n",
    "correlation_matrix = df.corr()"
   ]
  },
  {
   "cell_type": "code",
   "execution_count": null,
   "id": "ecccaef8",
   "metadata": {},
   "outputs": [],
   "source": [
    "# Create a heatmap of the correlation matrix\n",
    "plt.imshow(correlation_matrix, cmap='coolwarm', interpolation='nearest')\n",
    "plt.title(\"Correlation Matrix\")\n",
    "plt.colorbar()\n",
    "plt.xticks(range(len(df.columns)), df.columns, rotation=90)\n",
    "plt.yticks(range(len(df.columns)), df.columns)\n",
    "plt.show()\n"
   ]
  },
  {
   "cell_type": "code",
   "execution_count": null,
   "id": "787cc6b0",
   "metadata": {},
   "outputs": [],
   "source": [
    "# Select specific columns for correlation analysis\n",
    "selected_columns = ['Age', 'BMI', 'BloodPressure']"
   ]
  },
  {
   "cell_type": "code",
   "execution_count": null,
   "id": "43bad15e",
   "metadata": {},
   "outputs": [],
   "source": [
    "# Calculate the correlation matrix for the selected columns\n",
    "selected_corr_matrix = df[selected_columns].corr()"
   ]
  },
  {
   "cell_type": "code",
   "execution_count": null,
   "id": "a767dfca",
   "metadata": {},
   "outputs": [],
   "source": [
    "# Create a heatmap of the correlation matrix for the selected columns\n",
    "plt.imshow(selected_corr_matrix, cmap='coolwarm', interpolation='nearest')\n",
    "plt.title(\"Correlation Matrix (Selected Columns)\")\n",
    "plt.colorbar()\n",
    "plt.xticks(range(len(selected_columns)), selected_columns, rotation=90)\n",
    "plt.yticks(range(len(selected_columns)), selected_columns)\n",
    "plt.show()"
   ]
  }
 ],
 "metadata": {
  "kernelspec": {
   "display_name": "Python 3 (ipykernel)",
   "language": "python",
   "name": "python3"
  },
  "language_info": {
   "codemirror_mode": {
    "name": "ipython",
    "version": 3
   },
   "file_extension": ".py",
   "mimetype": "text/x-python",
   "name": "python",
   "nbconvert_exporter": "python",
   "pygments_lexer": "ipython3",
   "version": "3.9.13"
  }
 },
 "nbformat": 4,
 "nbformat_minor": 5
}
