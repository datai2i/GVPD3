{
 "cells": [
  {
   "cell_type": "markdown",
   "id": "b35c7f7e",
   "metadata": {},
   "source": [
    "Exploratory Data Analysis (EDA) involves visually exploring and understanding the underlying patterns, relationships, and distributions in the data. Here are some commonly used data visualization techniques for EDA:\n",
    "\n",
    "Histograms: Visualize the distribution of a single variable by dividing the data into bins and displaying the frequency or count of observations in each bin.\n",
    "\n",
    "Box plots: Summarize the distribution of a variable using quartiles, median, and outliers. They are useful for comparing the distribution of multiple variables or groups.\n",
    "\n",
    "Scatter plots: Plot points to visualize the relationship between two continuous variables. They can indicate patterns, trends, or correlations.\n",
    "\n",
    "Line plots: Display the relationship between two variables over time or any continuous sequence. They are particularly useful for time series analysis.\n",
    "\n",
    "Bar plots: Show the distribution or comparison of categorical variables. They can represent counts or proportions for each category.\n",
    "\n",
    "Heatmaps: Visualize the correlation or relationship between multiple variables using a grid of colored cells. They help identify patterns and relationships among variables.\n",
    "\n",
    "Pair plots: Display pairwise relationships between multiple variables in a grid of scatter plots. They are useful for quickly identifying patterns and correlations.\n",
    "\n",
    "Violin plots: Combine a box plot and kernel density plot to display the distribution of a variable across different categories or groups.\n",
    "\n",
    "Pie charts: Represent the proportion or percentage of different categories within a variable. They are useful for displaying relative frequencies.\n",
    "\n",
    "Area plots: Display the cumulative contribution of different variables or categories over a continuous sequence."
   ]
  },
  {
   "cell_type": "markdown",
   "id": "38c95c91",
   "metadata": {},
   "source": [
    "# Line Plot"
   ]
  },
  {
   "cell_type": "code",
   "execution_count": null,
   "id": "4a997157",
   "metadata": {},
   "outputs": [],
   "source": [
    "import matplotlib.pyplot as plt\n",
    "\n",
    "# Create data\n",
    "x = [1, 2, 3, 4, 5]\n",
    "y = [2, 4, 6, 8, 10]\n",
    "\n",
    "# Create a line plot\n",
    "plt.plot(x, y)\n",
    "plt.title(\"Line Plot\")\n",
    "plt.xlabel(\"X-axis\")\n",
    "plt.ylabel(\"Y-axis\")\n",
    "plt.show()"
   ]
  },
  {
   "cell_type": "markdown",
   "id": "f72a46aa",
   "metadata": {},
   "source": [
    "# Scatter Plot"
   ]
  },
  {
   "cell_type": "code",
   "execution_count": null,
   "id": "55d9e485",
   "metadata": {},
   "outputs": [],
   "source": [
    "import matplotlib.pyplot as plt\n",
    "\n",
    "# Create data\n",
    "x = [1, 2, 3, 4, 5]\n",
    "y = [2, 4, 6, 8, 10]\n",
    "\n",
    "# Create a scatter plot\n",
    "plt.scatter(x, y)\n",
    "plt.title(\"Scatter Plot\")\n",
    "plt.xlabel(\"X-axis\")\n",
    "plt.ylabel(\"Y-axis\")\n",
    "plt.show()\n"
   ]
  },
  {
   "cell_type": "markdown",
   "id": "86db65f4",
   "metadata": {},
   "source": [
    "# Bar Plot"
   ]
  },
  {
   "cell_type": "code",
   "execution_count": null,
   "id": "b3e1e3b5",
   "metadata": {},
   "outputs": [],
   "source": [
    "import matplotlib.pyplot as plt\n",
    "\n",
    "# Create data\n",
    "categories = ['A', 'B', 'C', 'D']\n",
    "values = [10, 7, 5, 8]\n",
    "\n",
    "# Create a bar plot\n",
    "plt.bar(categories, values)\n",
    "plt.title(\"Bar Plot\")\n",
    "plt.xlabel(\"Categories\")\n",
    "plt.ylabel(\"Values\")\n",
    "plt.show()\n"
   ]
  },
  {
   "cell_type": "markdown",
   "id": "7aa8625b",
   "metadata": {},
   "source": [
    "# Histogram"
   ]
  },
  {
   "cell_type": "code",
   "execution_count": null,
   "id": "3578e366",
   "metadata": {},
   "outputs": [],
   "source": [
    "import matplotlib.pyplot as plt\n",
    "import numpy as np\n",
    "\n",
    "# Create data\n",
    "data = np.random.randn(1000)\n",
    "\n",
    "# Create a histogram\n",
    "plt.hist(data, bins=30)\n",
    "plt.title(\"Histogram\")\n",
    "plt.xlabel(\"Values\")\n",
    "plt.ylabel(\"Frequency\")\n",
    "plt.show()\n"
   ]
  },
  {
   "cell_type": "markdown",
   "id": "81d0f8d6",
   "metadata": {},
   "source": [
    "# Box Plot"
   ]
  },
  {
   "cell_type": "code",
   "execution_count": null,
   "id": "1fe92c94",
   "metadata": {},
   "outputs": [],
   "source": [
    "import matplotlib.pyplot as plt\n",
    "import numpy as np\n",
    "\n",
    "# Create data\n",
    "data = [np.random.normal(0, std, 100) for std in range(1, 4)]\n",
    "\n",
    "# Create a box plot\n",
    "plt.boxplot(data, labels=['A', 'B', 'C'])\n",
    "plt.title(\"Box Plot\")\n",
    "plt.xlabel(\"Categories\")\n",
    "plt.ylabel(\"Values\")\n",
    "plt.show()\n"
   ]
  },
  {
   "cell_type": "markdown",
   "id": "4c9ccae9",
   "metadata": {},
   "source": [
    "# Pie Chart"
   ]
  },
  {
   "cell_type": "code",
   "execution_count": null,
   "id": "3d4110a2",
   "metadata": {},
   "outputs": [],
   "source": [
    "import matplotlib.pyplot as plt\n",
    "\n",
    "# Create data\n",
    "labels = ['A', 'B', 'C', 'D']\n",
    "sizes = [15, 30, 45, 10]\n",
    "\n",
    "# Create a pie chart\n",
    "plt.pie(sizes, labels=labels, autopct='%1.1f%%', shadow=True)\n",
    "plt.title(\"Pie Chart\")\n",
    "plt.show()\n"
   ]
  },
  {
   "cell_type": "markdown",
   "id": "156c141b",
   "metadata": {},
   "source": [
    "# Heatmap"
   ]
  },
  {
   "cell_type": "code",
   "execution_count": null,
   "id": "eafa6ee0",
   "metadata": {},
   "outputs": [],
   "source": [
    "import matplotlib.pyplot as plt\n",
    "import numpy as np\n",
    "\n",
    "# Create data\n",
    "data = np.random.rand(5, 5)\n",
    "\n",
    "# Create a heatmap\n",
    "plt.imshow(data, cmap='hot', interpolation='nearest')\n",
    "plt.title(\"Heatmap\")\n",
    "plt.colorbar()\n",
    "plt.show()\n"
   ]
  },
  {
   "cell_type": "markdown",
   "id": "de076ae9",
   "metadata": {},
   "source": [
    "# Area Plot"
   ]
  },
  {
   "cell_type": "code",
   "execution_count": null,
   "id": "06d806a9",
   "metadata": {},
   "outputs": [],
   "source": [
    "import matplotlib.pyplot as plt\n",
    "import numpy as np\n",
    "\n",
    "# Create data\n",
    "x = np.linspace(0, 10, 100)\n",
    "y1 = np.sin(x)\n",
    "y2 = np.cos(x)\n",
    "\n",
    "# Create an area plot\n",
    "plt.fill_between(x, y1, y2, color='blue', alpha=0.3)\n",
    "plt.title(\"Area Plot\")\n",
    "plt.xlabel(\"X-axis\")\n",
    "plt.ylabel(\"Y-axis\")\n",
    "plt.show()\n"
   ]
  }
 ],
 "metadata": {
  "kernelspec": {
   "display_name": "Python 3 (ipykernel)",
   "language": "python",
   "name": "python3"
  },
  "language_info": {
   "codemirror_mode": {
    "name": "ipython",
    "version": 3
   },
   "file_extension": ".py",
   "mimetype": "text/x-python",
   "name": "python",
   "nbconvert_exporter": "python",
   "pygments_lexer": "ipython3",
   "version": "3.9.13"
  }
 },
 "nbformat": 4,
 "nbformat_minor": 5
}
